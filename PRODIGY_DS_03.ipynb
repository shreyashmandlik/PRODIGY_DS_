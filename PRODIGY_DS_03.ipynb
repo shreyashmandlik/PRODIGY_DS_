{
 "cells": [
  {
   "cell_type": "code",
   "execution_count": 4,
   "id": "a42f48f7",
   "metadata": {},
   "outputs": [
    {
     "name": "stdout",
     "output_type": "stream",
     "text": [
      "Accuracy: 0.89\n",
      "\n",
      "Classification Report:\n",
      "              precision    recall  f1-score   support\n",
      "\n",
      "           0       0.94      0.94      0.94      7303\n",
      "           1       0.51      0.51      0.51       935\n",
      "\n",
      "    accuracy                           0.89      8238\n",
      "   macro avg       0.73      0.73      0.73      8238\n",
      "weighted avg       0.89      0.89      0.89      8238\n",
      "\n",
      "\n",
      "Confusion Matrix:\n",
      "[[6846  457]\n",
      " [ 454  481]]\n"
     ]
    }
   ],
   "source": [
    "import pandas as pd\n",
    "from sklearn.model_selection import train_test_split\n",
    "from sklearn.tree import DecisionTreeClassifier\n",
    "from sklearn.metrics import accuracy_score, classification_report, confusion_matrix\n",
    "from sklearn.preprocessing import LabelEncoder\n",
    "from zipfile import ZipFile\n",
    "import requests\n",
    "from io import BytesIO\n",
    "\n",
    "# Download the ZIP file and extract the CSV\n",
    "url = 'https://archive.ics.uci.edu/ml/machine-learning-databases/00222/bank-additional.zip'\n",
    "response = requests.get(url)\n",
    "\n",
    "with ZipFile(BytesIO(response.content)) as zip_file:\n",
    "    # Specify the CSV file inside the ZIP\n",
    "    csv_file = zip_file.open('bank-additional/bank-additional-full.csv')\n",
    "    bank_data = pd.read_csv(csv_file, sep=';')\n",
    "\n",
    "# Encode categorical variables\n",
    "label_encoders = {}\n",
    "for column in bank_data.columns:\n",
    "    if bank_data[column].dtype == 'object':\n",
    "        label_encoders[column] = LabelEncoder()\n",
    "        bank_data[column] = label_encoders[column].fit_transform(bank_data[column])\n",
    "\n",
    "# Define features and target variable\n",
    "X = bank_data.drop('y', axis=1)  # Features\n",
    "y = bank_data['y']  # Target variable\n",
    "\n",
    "# Split the data into training and testing sets\n",
    "X_train, X_test, y_train, y_test = train_test_split(X, y, test_size=0.2, random_state=42)\n",
    "\n",
    "# Initialize the Decision Tree Classifier\n",
    "clf = DecisionTreeClassifier(random_state=42)\n",
    "\n",
    "# Fit the classifier to the training data\n",
    "clf.fit(X_train, y_train)\n",
    "\n",
    "# Predict on the test set\n",
    "y_pred = clf.predict(X_test)\n",
    "\n",
    "# Evaluate the classifier\n",
    "accuracy = accuracy_score(y_test, y_pred)\n",
    "print(f'Accuracy: {accuracy:.2f}')\n",
    "\n",
    "print('\\nClassification Report:')\n",
    "print(classification_report(y_test, y_pred))\n",
    "\n",
    "print('\\nConfusion Matrix:')\n",
    "print(confusion_matrix(y_test, y_pred))\n"
   ]
  },
  {
   "cell_type": "code",
   "execution_count": null,
   "id": "9b120cd9",
   "metadata": {},
   "outputs": [],
   "source": []
  },
  {
   "cell_type": "code",
   "execution_count": null,
   "id": "788b915a",
   "metadata": {},
   "outputs": [],
   "source": []
  }
 ],
 "metadata": {
  "kernelspec": {
   "display_name": "Python 3 (ipykernel)",
   "language": "python",
   "name": "python3"
  },
  "language_info": {
   "codemirror_mode": {
    "name": "ipython",
    "version": 3
   },
   "file_extension": ".py",
   "mimetype": "text/x-python",
   "name": "python",
   "nbconvert_exporter": "python",
   "pygments_lexer": "ipython3",
   "version": "3.9.7"
  }
 },
 "nbformat": 4,
 "nbformat_minor": 5
}
